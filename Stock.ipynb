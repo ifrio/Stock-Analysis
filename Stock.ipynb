{
 "cells": [
  {
   "cell_type": "markdown",
   "metadata": {},
   "source": [
    "# Import Numpy, yFinance, Pandas, Sk-Learn"
   ]
  },
  {
   "cell_type": "code",
   "execution_count": 21,
   "metadata": {},
   "outputs": [],
   "source": [
    "import yfinance as yf\n",
    "import robin_stocks as rb\n",
    "import numpy as np\n",
    "import matplotlib\n",
    "%matplotlib inline\n",
    "import matplotlib.pyplot as plt\n",
    "from datetime import date\n",
    "import json\n",
    "import pandas as pd\n",
    "plt.style.use('fivethirtyeight')"
   ]
  },
  {
   "cell_type": "markdown",
   "metadata": {},
   "source": [
    "# Useful Functions"
   ]
  },
  {
   "cell_type": "code",
   "execution_count": 22,
   "metadata": {},
   "outputs": [],
   "source": [
    "def stock_data(ticker, start, end, interval):\n",
    "    df= yf.Ticker(ticker)\n",
    "    df = df.history(start=start, end=end, interval=interval)\n",
    "    df.reset_index(level=0, inplace=True)\n",
    "    return df\n",
    "def rolling_average(df,columns, window):\n",
    "    return df[columns].rolling(window).mean()\n",
    "def rolling_std(df,columns, window):\n",
    "    return df[columns].rolling(window).std()\n",
    "def saveAsJson(tickerName,startDate,endDate, df):\n",
    "    data.to_json(r''+tickerName+startDate+endDate+'Data.json')\n",
    "def loadJson(file):\n",
    "    return pd.read_json(file) "
   ]
  },
  {
   "cell_type": "markdown",
   "metadata": {},
   "source": [
    "# Point of Interest"
   ]
  },
  {
   "cell_type": "code",
   "execution_count": 14,
   "metadata": {},
   "outputs": [
    {
     "data": {
      "text/html": [
       "<div>\n",
       "<style scoped>\n",
       "    .dataframe tbody tr th:only-of-type {\n",
       "        vertical-align: middle;\n",
       "    }\n",
       "\n",
       "    .dataframe tbody tr th {\n",
       "        vertical-align: top;\n",
       "    }\n",
       "\n",
       "    .dataframe thead th {\n",
       "        text-align: right;\n",
       "    }\n",
       "</style>\n",
       "<table border=\"1\" class=\"dataframe\">\n",
       "  <thead>\n",
       "    <tr style=\"text-align: right;\">\n",
       "      <th></th>\n",
       "      <th>Date</th>\n",
       "      <th>Open</th>\n",
       "      <th>High</th>\n",
       "      <th>Low</th>\n",
       "      <th>Close</th>\n",
       "      <th>Volume</th>\n",
       "      <th>Dividends</th>\n",
       "      <th>Stock Splits</th>\n",
       "      <th>mu_20</th>\n",
       "      <th>std_20</th>\n",
       "    </tr>\n",
       "  </thead>\n",
       "  <tbody>\n",
       "    <tr>\n",
       "      <th>0</th>\n",
       "      <td>2020-10-01</td>\n",
       "      <td>0.98</td>\n",
       "      <td>1.00</td>\n",
       "      <td>0.96</td>\n",
       "      <td>0.98</td>\n",
       "      <td>5669200</td>\n",
       "      <td>0</td>\n",
       "      <td>0</td>\n",
       "      <td>NaN</td>\n",
       "      <td>NaN</td>\n",
       "    </tr>\n",
       "    <tr>\n",
       "      <th>1</th>\n",
       "      <td>2020-10-02</td>\n",
       "      <td>0.95</td>\n",
       "      <td>1.03</td>\n",
       "      <td>0.90</td>\n",
       "      <td>1.03</td>\n",
       "      <td>8162600</td>\n",
       "      <td>0</td>\n",
       "      <td>0</td>\n",
       "      <td>NaN</td>\n",
       "      <td>NaN</td>\n",
       "    </tr>\n",
       "    <tr>\n",
       "      <th>2</th>\n",
       "      <td>2020-10-05</td>\n",
       "      <td>1.31</td>\n",
       "      <td>1.32</td>\n",
       "      <td>1.08</td>\n",
       "      <td>1.12</td>\n",
       "      <td>43064500</td>\n",
       "      <td>0</td>\n",
       "      <td>0</td>\n",
       "      <td>NaN</td>\n",
       "      <td>NaN</td>\n",
       "    </tr>\n",
       "    <tr>\n",
       "      <th>3</th>\n",
       "      <td>2020-10-06</td>\n",
       "      <td>1.11</td>\n",
       "      <td>1.14</td>\n",
       "      <td>1.01</td>\n",
       "      <td>1.04</td>\n",
       "      <td>10607000</td>\n",
       "      <td>0</td>\n",
       "      <td>0</td>\n",
       "      <td>NaN</td>\n",
       "      <td>NaN</td>\n",
       "    </tr>\n",
       "    <tr>\n",
       "      <th>4</th>\n",
       "      <td>2020-10-07</td>\n",
       "      <td>1.07</td>\n",
       "      <td>1.08</td>\n",
       "      <td>1.04</td>\n",
       "      <td>1.08</td>\n",
       "      <td>5603100</td>\n",
       "      <td>0</td>\n",
       "      <td>0</td>\n",
       "      <td>NaN</td>\n",
       "      <td>NaN</td>\n",
       "    </tr>\n",
       "  </tbody>\n",
       "</table>\n",
       "</div>"
      ],
      "text/plain": [
       "        Date  Open  High   Low  Close    Volume  Dividends  Stock Splits  \\\n",
       "0 2020-10-01  0.98  1.00  0.96   0.98   5669200          0             0   \n",
       "1 2020-10-02  0.95  1.03  0.90   1.03   8162600          0             0   \n",
       "2 2020-10-05  1.31  1.32  1.08   1.12  43064500          0             0   \n",
       "3 2020-10-06  1.11  1.14  1.01   1.04  10607000          0             0   \n",
       "4 2020-10-07  1.07  1.08  1.04   1.08   5603100          0             0   \n",
       "\n",
       "   mu_20  std_20  \n",
       "0    NaN     NaN  \n",
       "1    NaN     NaN  \n",
       "2    NaN     NaN  \n",
       "3    NaN     NaN  \n",
       "4    NaN     NaN  "
      ]
     },
     "execution_count": 14,
     "metadata": {},
     "output_type": "execute_result"
    }
   ],
   "source": [
    "today = date.today()\n",
    "\n",
    "today = today.strftime(\"%Y-%m-%d\")\n",
    "ticker = \"KOS\"\n",
    "start = \"2020-10-01\"\n",
    "end = today\n",
    "interval = \"1d\"\n",
    "\n",
    "data = stock_data(ticker, start, end, interval)\n",
    "data['mu_20'] = rolling_average(data,'Close',20)\n",
    "data['std_20'] = rolling_std(data,'Close',20)\n",
    "data.head(5)"
   ]
  },
  {
   "cell_type": "code",
   "execution_count": 16,
   "metadata": {},
   "outputs": [],
   "source": [
    "saveAsJson(ticker,start,end,data)"
   ]
  },
  {
   "cell_type": "code",
   "execution_count": 4,
   "metadata": {},
   "outputs": [
    {
     "data": {
      "text/plain": [
       "<matplotlib.legend.Legend at 0x1dbfa791860>"
      ]
     },
     "execution_count": 4,
     "metadata": {},
     "output_type": "execute_result"
    },
    {
     "data": {
      "image/png": "[encoded data removed]",
      "text/plain": [
       "<Figure size 1080x504 with 1 Axes>"
      ]
     },
     "metadata": {},
     "output_type": "display_data"
    }
   ],
   "source": [
    "plt.figure(figsize = (15,7))\n",
    "\n",
    "plt.plot(data['Date'],data['Close'],label = \"Price\")\n",
    "plt.plot(data['Date'],data['mu_20'],label = \"20 Day SMA\")\n",
    "plt.title(\"Close Price\")\n",
    "plt.xlabel(\"Date\")\n",
    "plt.ylabel(\"Price\")\n",
    "plt.legend()"
   ]
  },
  {
   "cell_type": "markdown",
   "metadata": {},
   "source": [
    "# Proposed Strategy "
   ]
  },
  {
   "cell_type": "markdown",
   "metadata": {},
   "source": [
    "## Ideas"
   ]
  },
  {
   "cell_type": "markdown",
   "metadata": {},
   "source": [
    "- using random sample to see whether gains are within normal movement or to make autotrade or need further investiation\n",
    "- comparing companies with snp 500 to see whether company is out performing amret"
   ]
  },
  {
   "cell_type": "markdown",
   "metadata": {},
   "source": [
    "## STD Strat."
   ]
  },
  {
   "cell_type": "markdown",
   "metadata": {},
   "source": [
    "Description:"
   ]
  },
  {
   "cell_type": "code",
   "execution_count": 5,
   "metadata": {},
   "outputs": [],
   "source": [
    "def StandardDeviationStrategy(data, valuation):\n",
    "    zScores = [(data[\"Close\"][day] - data[\"mu_20\"][day]) / data[\"std_20\"][day] for day in range(len(data))]\n",
    "\n",
    "    shares = 0\n",
    "    hasPosition = False\n",
    "\n",
    "    netWorth = []\n",
    "    decisions = []\n",
    "\n",
    "    for day in range(len(data)):\n",
    "        # Sell short if the z-score is > 1\n",
    "        if zScores[day] > 1 and hasPosition:\n",
    "            valuation = shares * data[\"Close\"][day]\n",
    "            shares = 0\n",
    "            decisions.append(\"Sell\")\n",
    "            hasPosition = False\n",
    "        # Buy long if the z-score is < 1\n",
    "        elif zScores[day] < -1 and hasPosition == False:\n",
    "            shares = valuation / data[\"Close\"][day]\n",
    "            decisions.append(\"Buy\")\n",
    "            hasPosition = True\n",
    "        # Clear positions if the z-score less than .5\n",
    "        elif abs(zScores[day]) < 0.5 and hasPosition:\n",
    "            valuation = shares * data[\"Close\"][day]\n",
    "            shares = 0\n",
    "            decisions.append(\"Clear\")\n",
    "            hasPosition = False\n",
    "        # Hold if z-score greater than .5\n",
    "        else:\n",
    "            decisions.append(\"Holding\")\n",
    "        netWorth.append(valuation)\n",
    "    print(\"Returns: $\" + str(valuation))\n",
    "    return netWorth, decisions"
   ]
  },
  {
   "cell_type": "code",
   "execution_count": 6,
   "metadata": {},
   "outputs": [
    {
     "name": "stdout",
     "output_type": "stream",
     "text": [
      "Returns: $1247.2162084720715\n"
     ]
    }
   ],
   "source": [
    "netWorth, decisions = StandardDeviationStrategy(data, 1000)"
   ]
  },
  {
   "cell_type": "markdown",
   "metadata": {},
   "source": [
    "# Test Strategy"
   ]
  },
  {
   "cell_type": "code",
   "execution_count": 7,
   "metadata": {},
   "outputs": [],
   "source": [
    "def backTesting(strat, data, valuation):\n",
    "    zScores = [(data[\"Close\"][day] - data[\"mu_20\"][day]) / data[\"std_20\"][day] for day in range(len(data))]\n",
    "\n",
    "    shares = 0\n",
    "    hasPosition = False\n",
    "\n",
    "    netWorth = []\n",
    "    decisions = []\n",
    "\n",
    "    for day in range(len(data)):\n",
    "        ZScore = zScores[day]\n",
    "        price = data[\"Close\"][day]\n",
    "        # Sell short if the z-score is > 1\n",
    "        if zScore > 1 and hasPosition:\n",
    "            valuation = shares * price\n",
    "            shares = 0\n",
    "            decisions.append(\"Sell\")\n",
    "            hasPosition = False\n",
    "        # Buy long if the z-score is < 1\n",
    "        elif zScore < -1 and hasPosition == False:\n",
    "            shares = valuation / price\n",
    "            decisions.append(\"Buy\")\n",
    "            hasPosition = True\n",
    "        # Clear positions if the z-score less than .5\n",
    "        elif abs(zScore) < 0.5 and hasPosition:\n",
    "            valuation = shares * price\n",
    "            shares = 0\n",
    "            decisions.append(\"Clear\")\n",
    "            hasPosition = False\n",
    "        # Hold if z-score greater than .5\n",
    "        else:\n",
    "            decisions.append(\"Holding\")\n",
    "        netWorth.append(valuation)\n",
    "    print(\"Returns: $\" + str(valuation))\n",
    "    return netWorth, decisions"
   ]
  },
  {
   "cell_type": "markdown",
   "metadata": {},
   "source": [
    "# Disseminate information"
   ]
  },
  {
   "cell_type": "markdown",
   "metadata": {},
   "source": [
    "### Mark up, should be converted over to Java using interactive trader instead, better for streaming data"
   ]
  },
  {
   "cell_type": "code",
   "execution_count": null,
   "metadata": {},
   "outputs": [],
   "source": []
  }
 ],
 "metadata": {
  "kernelspec": {
   "display_name": "Python 3",
   "language": "python",
   "name": "python3"
  },
  "language_info": {
   "codemirror_mode": {
    "name": "ipython",
    "version": 3
   },
   "file_extension": ".py",
   "mimetype": "text/x-python",
   "name": "python",
   "nbconvert_exporter": "python",
   "pygments_lexer": "ipython3",
   "version": "3.6.12"
  }
 },
 "nbformat": 4,
 "nbformat_minor": 4
}
